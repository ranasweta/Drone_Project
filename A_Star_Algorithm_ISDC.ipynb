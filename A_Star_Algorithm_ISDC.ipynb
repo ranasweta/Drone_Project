{
  "nbformat": 4,
  "nbformat_minor": 0,
  "metadata": {
    "colab": {
      "provenance": [],
      "gpuType": "T4",
      "authorship_tag": "ABX9TyMPd08Xv/NWSU3J9z+lMMyd",
      "include_colab_link": true
    },
    "kernelspec": {
      "name": "python3",
      "display_name": "Python 3"
    },
    "language_info": {
      "name": "python"
    },
    "accelerator": "GPU"
  },
  "cells": [
    {
      "cell_type": "markdown",
      "metadata": {
        "id": "view-in-github",
        "colab_type": "text"
      },
      "source": [
        "<a href=\"https://colab.research.google.com/github/ranasweta/Drone_Project/blob/main/A_Star_Algorithm_ISDC.ipynb\" target=\"_parent\"><img src=\"https://colab.research.google.com/assets/colab-badge.svg\" alt=\"Open In Colab\"/></a>"
      ]
    },
    {
      "cell_type": "code",
      "execution_count": null,
      "metadata": {
        "colab": {
          "base_uri": "https://localhost:8080/"
        },
        "id": "UpF-tVp3XvHb",
        "outputId": "542cf12e-9a86-4376-fe24-48dd8cd6a9ad"
      },
      "outputs": [
        {
          "output_type": "stream",
          "name": "stdout",
          "text": [
            "Requirement already satisfied: requests in /usr/local/lib/python3.10/dist-packages (2.32.3)\n",
            "Requirement already satisfied: charset-normalizer<4,>=2 in /usr/local/lib/python3.10/dist-packages (from requests) (3.4.1)\n",
            "Requirement already satisfied: idna<4,>=2.5 in /usr/local/lib/python3.10/dist-packages (from requests) (3.10)\n",
            "Requirement already satisfied: urllib3<3,>=1.21.1 in /usr/local/lib/python3.10/dist-packages (from requests) (2.3.0)\n",
            "Requirement already satisfied: certifi>=2017.4.17 in /usr/local/lib/python3.10/dist-packages (from requests) (2024.12.14)\n"
          ]
        }
      ],
      "source": [
        "# Install required libraries (optional if already installed)\n",
        "!pip install requests\n"
      ]
    },
    {
      "cell_type": "code",
      "source": [
        "# Step 3: Define API details\n",
        "API_KEY = \"MiIoLqxDVN56toRpsz8k\"  # Replace with your Roboflow API key\n",
        "WORKSPACE_NAME = \"nice-9c4n4\"  # Replace with your workspace name\n",
        "PROJECT_NAME = \"object-detection-isdc\"  # Replace with your project name\n",
        "VERSION = 1  # Dataset version (update if necessary)\n"
      ],
      "metadata": {
        "id": "OBdULJtCX1YA"
      },
      "execution_count": null,
      "outputs": []
    },
    {
      "cell_type": "code",
      "source": [
        "# Step 4: Construct the API URL\n",
        "url = f\"https://api.roboflow.com/{WORKSPACE_NAME}/{PROJECT_NAME}/{VERSION}/download\"\n",
        "\n",
        "# Step 4.1: Make a request to the API\n",
        "import requests\n",
        "\n",
        "response = requests.get(\n",
        "    url,\n",
        "    headers={\"Authorization\": f\"Bearer {API_KEY}\"}\n",
        ")\n",
        "\n",
        "# Step 4.2: Save the dataset if the request is successful\n",
        "if response.status_code == 200:\n",
        "    output_file = \"dataset.zip\"\n",
        "    with open(output_file, \"wb\") as file:\n",
        "        file.write(response.content)\n",
        "    print(f\"Dataset downloaded successfully and saved as {output_file}\")\n",
        "else:\n",
        "    print(f\"Failed to download dataset. Status Code: {response.status_code}\")\n",
        "    print(response.json())\n"
      ],
      "metadata": {
        "colab": {
          "base_uri": "https://localhost:8080/"
        },
        "id": "lz5Vlf5kX5lL",
        "outputId": "5326bd16-1386-4654-d247-fd6a33df24d3"
      },
      "execution_count": null,
      "outputs": [
        {
          "output_type": "stream",
          "name": "stdout",
          "text": [
            "Failed to download dataset. Status Code: 404\n",
            "{'error': {'message': 'Unsupported get request. Version with ID \"object-detection-isdc/1\" does not exist or cannot be loaded due to missing permissions.', 'status': 404, 'type': 'GraphMethodException', 'hint': 'You can find the API docs at https://docs.roboflow.com'}}\n"
          ]
        }
      ]
    },
    {
      "cell_type": "code",
      "source": [
        "!pip install roboflow"
      ],
      "metadata": {
        "colab": {
          "base_uri": "https://localhost:8080/"
        },
        "id": "n1NpzDRsYYlV",
        "outputId": "18b1b9ac-5865-4f76-f11f-733b3a50a3d6"
      },
      "execution_count": null,
      "outputs": [
        {
          "output_type": "stream",
          "name": "stdout",
          "text": [
            "Collecting roboflow\n",
            "  Downloading roboflow-1.1.50-py3-none-any.whl.metadata (9.7 kB)\n",
            "Requirement already satisfied: certifi in /usr/local/lib/python3.10/dist-packages (from roboflow) (2024.12.14)\n",
            "Collecting idna==3.7 (from roboflow)\n",
            "  Downloading idna-3.7-py3-none-any.whl.metadata (9.9 kB)\n",
            "Requirement already satisfied: cycler in /usr/local/lib/python3.10/dist-packages (from roboflow) (0.12.1)\n",
            "Requirement already satisfied: kiwisolver>=1.3.1 in /usr/local/lib/python3.10/dist-packages (from roboflow) (1.4.8)\n",
            "Requirement already satisfied: matplotlib in /usr/local/lib/python3.10/dist-packages (from roboflow) (3.10.0)\n",
            "Requirement already satisfied: numpy>=1.18.5 in /usr/local/lib/python3.10/dist-packages (from roboflow) (1.26.4)\n",
            "Requirement already satisfied: opencv-python-headless==4.10.0.84 in /usr/local/lib/python3.10/dist-packages (from roboflow) (4.10.0.84)\n",
            "Requirement already satisfied: Pillow>=7.1.2 in /usr/local/lib/python3.10/dist-packages (from roboflow) (11.1.0)\n",
            "Requirement already satisfied: python-dateutil in /usr/local/lib/python3.10/dist-packages (from roboflow) (2.8.2)\n",
            "Collecting python-dotenv (from roboflow)\n",
            "  Downloading python_dotenv-1.0.1-py3-none-any.whl.metadata (23 kB)\n",
            "Requirement already satisfied: requests in /usr/local/lib/python3.10/dist-packages (from roboflow) (2.32.3)\n",
            "Requirement already satisfied: six in /usr/local/lib/python3.10/dist-packages (from roboflow) (1.17.0)\n",
            "Requirement already satisfied: urllib3>=1.26.6 in /usr/local/lib/python3.10/dist-packages (from roboflow) (2.3.0)\n",
            "Requirement already satisfied: tqdm>=4.41.0 in /usr/local/lib/python3.10/dist-packages (from roboflow) (4.67.1)\n",
            "Requirement already satisfied: PyYAML>=5.3.1 in /usr/local/lib/python3.10/dist-packages (from roboflow) (6.0.2)\n",
            "Requirement already satisfied: requests-toolbelt in /usr/local/lib/python3.10/dist-packages (from roboflow) (1.0.0)\n",
            "Collecting filetype (from roboflow)\n",
            "  Downloading filetype-1.2.0-py2.py3-none-any.whl.metadata (6.5 kB)\n",
            "Requirement already satisfied: contourpy>=1.0.1 in /usr/local/lib/python3.10/dist-packages (from matplotlib->roboflow) (1.3.1)\n",
            "Requirement already satisfied: fonttools>=4.22.0 in /usr/local/lib/python3.10/dist-packages (from matplotlib->roboflow) (4.55.3)\n",
            "Requirement already satisfied: packaging>=20.0 in /usr/local/lib/python3.10/dist-packages (from matplotlib->roboflow) (24.2)\n",
            "Requirement already satisfied: pyparsing>=2.3.1 in /usr/local/lib/python3.10/dist-packages (from matplotlib->roboflow) (3.2.1)\n",
            "Requirement already satisfied: charset-normalizer<4,>=2 in /usr/local/lib/python3.10/dist-packages (from requests->roboflow) (3.4.1)\n",
            "Downloading roboflow-1.1.50-py3-none-any.whl (81 kB)\n",
            "\u001b[2K   \u001b[90m━━━━━━━━━━━━━━━━━━━━━━━━━━━━━━━━━━━━━━━━\u001b[0m \u001b[32m81.5/81.5 kB\u001b[0m \u001b[31m5.7 MB/s\u001b[0m eta \u001b[36m0:00:00\u001b[0m\n",
            "\u001b[?25hDownloading idna-3.7-py3-none-any.whl (66 kB)\n",
            "\u001b[2K   \u001b[90m━━━━━━━━━━━━━━━━━━━━━━━━━━━━━━━━━━━━━━━━\u001b[0m \u001b[32m66.8/66.8 kB\u001b[0m \u001b[31m7.3 MB/s\u001b[0m eta \u001b[36m0:00:00\u001b[0m\n",
            "\u001b[?25hDownloading filetype-1.2.0-py2.py3-none-any.whl (19 kB)\n",
            "Downloading python_dotenv-1.0.1-py3-none-any.whl (19 kB)\n",
            "Installing collected packages: filetype, python-dotenv, idna, roboflow\n",
            "  Attempting uninstall: idna\n",
            "    Found existing installation: idna 3.10\n",
            "    Uninstalling idna-3.10:\n",
            "      Successfully uninstalled idna-3.10\n",
            "Successfully installed filetype-1.2.0 idna-3.7 python-dotenv-1.0.1 roboflow-1.1.50\n"
          ]
        }
      ]
    },
    {
      "cell_type": "code",
      "source": [
        "!pip install roboflow\n",
        "\n",
        "from roboflow import Roboflow\n",
        "rf = Roboflow(api_key=\"RkO2Mqw52YCG9gwRItwr\")\n",
        "project = rf.workspace(\"pits-qs1vn\").project(\"pits-2\")\n",
        "version = project.version(4)\n",
        "dataset = version.download(\"yolov5\")\n",
        ""
      ],
      "metadata": {
        "colab": {
          "base_uri": "https://localhost:8080/"
        },
        "id": "gRbex0iYZktq",
        "outputId": "d0281d4a-d206-4076-b938-7f2893732e7e"
      },
      "execution_count": 1,
      "outputs": [
        {
          "output_type": "stream",
          "name": "stdout",
          "text": [
            "Collecting roboflow\n",
            "  Downloading roboflow-1.1.60-py3-none-any.whl.metadata (9.7 kB)\n",
            "Requirement already satisfied: certifi in /usr/local/lib/python3.11/dist-packages (from roboflow) (2025.1.31)\n",
            "Collecting idna==3.7 (from roboflow)\n",
            "  Downloading idna-3.7-py3-none-any.whl.metadata (9.9 kB)\n",
            "Requirement already satisfied: cycler in /usr/local/lib/python3.11/dist-packages (from roboflow) (0.12.1)\n",
            "Requirement already satisfied: kiwisolver>=1.3.1 in /usr/local/lib/python3.11/dist-packages (from roboflow) (1.4.8)\n",
            "Requirement already satisfied: matplotlib in /usr/local/lib/python3.11/dist-packages (from roboflow) (3.10.0)\n",
            "Requirement already satisfied: numpy>=1.18.5 in /usr/local/lib/python3.11/dist-packages (from roboflow) (2.0.2)\n",
            "Collecting opencv-python-headless==4.10.0.84 (from roboflow)\n",
            "  Downloading opencv_python_headless-4.10.0.84-cp37-abi3-manylinux_2_17_x86_64.manylinux2014_x86_64.whl.metadata (20 kB)\n",
            "Requirement already satisfied: Pillow>=7.1.2 in /usr/local/lib/python3.11/dist-packages (from roboflow) (11.1.0)\n",
            "Collecting pillow-heif>=0.18.0 (from roboflow)\n",
            "  Downloading pillow_heif-0.22.0-cp311-cp311-manylinux_2_17_x86_64.manylinux2014_x86_64.whl.metadata (9.6 kB)\n",
            "Requirement already satisfied: python-dateutil in /usr/local/lib/python3.11/dist-packages (from roboflow) (2.8.2)\n",
            "Collecting python-dotenv (from roboflow)\n",
            "  Downloading python_dotenv-1.1.0-py3-none-any.whl.metadata (24 kB)\n",
            "Requirement already satisfied: requests in /usr/local/lib/python3.11/dist-packages (from roboflow) (2.32.3)\n",
            "Requirement already satisfied: six in /usr/local/lib/python3.11/dist-packages (from roboflow) (1.17.0)\n",
            "Requirement already satisfied: urllib3>=1.26.6 in /usr/local/lib/python3.11/dist-packages (from roboflow) (2.3.0)\n",
            "Requirement already satisfied: tqdm>=4.41.0 in /usr/local/lib/python3.11/dist-packages (from roboflow) (4.67.1)\n",
            "Requirement already satisfied: PyYAML>=5.3.1 in /usr/local/lib/python3.11/dist-packages (from roboflow) (6.0.2)\n",
            "Requirement already satisfied: requests-toolbelt in /usr/local/lib/python3.11/dist-packages (from roboflow) (1.0.0)\n",
            "Collecting filetype (from roboflow)\n",
            "  Downloading filetype-1.2.0-py2.py3-none-any.whl.metadata (6.5 kB)\n",
            "Requirement already satisfied: contourpy>=1.0.1 in /usr/local/lib/python3.11/dist-packages (from matplotlib->roboflow) (1.3.1)\n",
            "Requirement already satisfied: fonttools>=4.22.0 in /usr/local/lib/python3.11/dist-packages (from matplotlib->roboflow) (4.56.0)\n",
            "Requirement already satisfied: packaging>=20.0 in /usr/local/lib/python3.11/dist-packages (from matplotlib->roboflow) (24.2)\n",
            "Requirement already satisfied: pyparsing>=2.3.1 in /usr/local/lib/python3.11/dist-packages (from matplotlib->roboflow) (3.2.3)\n",
            "Requirement already satisfied: charset-normalizer<4,>=2 in /usr/local/lib/python3.11/dist-packages (from requests->roboflow) (3.4.1)\n",
            "Downloading roboflow-1.1.60-py3-none-any.whl (84 kB)\n",
            "\u001b[2K   \u001b[90m━━━━━━━━━━━━━━━━━━━━━━━━━━━━━━━━━━━━━━━━\u001b[0m \u001b[32m84.5/84.5 kB\u001b[0m \u001b[31m4.8 MB/s\u001b[0m eta \u001b[36m0:00:00\u001b[0m\n",
            "\u001b[?25hDownloading idna-3.7-py3-none-any.whl (66 kB)\n",
            "\u001b[2K   \u001b[90m━━━━━━━━━━━━━━━━━━━━━━━━━━━━━━━━━━━━━━━━\u001b[0m \u001b[32m66.8/66.8 kB\u001b[0m \u001b[31m5.8 MB/s\u001b[0m eta \u001b[36m0:00:00\u001b[0m\n",
            "\u001b[?25hDownloading opencv_python_headless-4.10.0.84-cp37-abi3-manylinux_2_17_x86_64.manylinux2014_x86_64.whl (49.9 MB)\n",
            "\u001b[2K   \u001b[90m━━━━━━━━━━━━━━━━━━━━━━━━━━━━━━━━━━━━━━━━\u001b[0m \u001b[32m49.9/49.9 MB\u001b[0m \u001b[31m19.5 MB/s\u001b[0m eta \u001b[36m0:00:00\u001b[0m\n",
            "\u001b[?25hDownloading pillow_heif-0.22.0-cp311-cp311-manylinux_2_17_x86_64.manylinux2014_x86_64.whl (7.8 MB)\n",
            "\u001b[2K   \u001b[90m━━━━━━━━━━━━━━━━━━━━━━━━━━━━━━━━━━━━━━━━\u001b[0m \u001b[32m7.8/7.8 MB\u001b[0m \u001b[31m87.8 MB/s\u001b[0m eta \u001b[36m0:00:00\u001b[0m\n",
            "\u001b[?25hDownloading filetype-1.2.0-py2.py3-none-any.whl (19 kB)\n",
            "Downloading python_dotenv-1.1.0-py3-none-any.whl (20 kB)\n",
            "Installing collected packages: filetype, python-dotenv, pillow-heif, opencv-python-headless, idna, roboflow\n",
            "  Attempting uninstall: opencv-python-headless\n",
            "    Found existing installation: opencv-python-headless 4.11.0.86\n",
            "    Uninstalling opencv-python-headless-4.11.0.86:\n",
            "      Successfully uninstalled opencv-python-headless-4.11.0.86\n",
            "  Attempting uninstall: idna\n",
            "    Found existing installation: idna 3.10\n",
            "    Uninstalling idna-3.10:\n",
            "      Successfully uninstalled idna-3.10\n",
            "Successfully installed filetype-1.2.0 idna-3.7 opencv-python-headless-4.10.0.84 pillow-heif-0.22.0 python-dotenv-1.1.0 roboflow-1.1.60\n",
            "loading Roboflow workspace...\n",
            "loading Roboflow project...\n"
          ]
        },
        {
          "output_type": "stream",
          "name": "stderr",
          "text": [
            "Downloading Dataset Version Zip in pits-2-4 to yolov5pytorch:: 100%|██████████| 61794/61794 [00:01<00:00, 36503.93it/s]"
          ]
        },
        {
          "output_type": "stream",
          "name": "stdout",
          "text": [
            "\n"
          ]
        },
        {
          "output_type": "stream",
          "name": "stderr",
          "text": [
            "\n",
            "Extracting Dataset Version Zip to pits-2-4 in yolov5pytorch:: 100%|██████████| 1444/1444 [00:00<00:00, 3335.36it/s]\n"
          ]
        }
      ]
    },
    {
      "cell_type": "code",
      "source": [
        "predictions_data= model.predict(\"/topview.jpg\", confidence=30, overlap=30).json()"
      ],
      "metadata": {
        "id": "-iMnULTlZrXM"
      },
      "execution_count": null,
      "outputs": []
    },
    {
      "cell_type": "code",
      "source": [
        "print(predictions_data)"
      ],
      "metadata": {
        "colab": {
          "base_uri": "https://localhost:8080/"
        },
        "id": "sarRQGtgbLjO",
        "outputId": "c8fa40f5-0f08-46b8-e953-d41588f36e18"
      },
      "execution_count": null,
      "outputs": [
        {
          "output_type": "stream",
          "name": "stdout",
          "text": [
            "{'predictions': [{'x': 9.5, 'y': 85.0, 'width': 19.0, 'height': 14.0, 'confidence': 0.7198148965835571, 'class': 'Cones', 'class_id': 0, 'detection_id': 'eaec97a0-7a5f-45c4-b1cf-c7c8bc660036', 'image_path': '/topview.jpg', 'prediction_type': 'ObjectDetectionModel'}, {'x': 156.5, 'y': 104.0, 'width': 25.0, 'height': 16.0, 'confidence': 0.5675296783447266, 'class': 'Cones', 'class_id': 0, 'detection_id': 'b2eede6a-6300-4a7f-9a54-61001a5576b1', 'image_path': '/topview.jpg', 'prediction_type': 'ObjectDetectionModel'}, {'x': 126.5, 'y': 163.5, 'width': 35.0, 'height': 9.0, 'confidence': 0.5403989553451538, 'class': 'Cones', 'class_id': 0, 'detection_id': 'f78fd0a3-b073-4e59-a3a7-e209e19b6e91', 'image_path': '/topview.jpg', 'prediction_type': 'ObjectDetectionModel'}, {'x': 212.0, 'y': 9.0, 'width': 28.0, 'height': 18.0, 'confidence': 0.3754699230194092, 'class': 'Cones', 'class_id': 0, 'detection_id': 'ceac146f-65d9-4386-8dbe-3d7e40ddfc57', 'image_path': '/topview.jpg', 'prediction_type': 'ObjectDetectionModel'}], 'image': {'width': '300', 'height': '168'}}\n"
          ]
        }
      ]
    },
    {
      "cell_type": "code",
      "source": [
        "model.predict(\"/topview.jpg\", confidence=20, overlap=30).save(\"prediction.jpg\")\n"
      ],
      "metadata": {
        "id": "RpAmTRI1bUTx"
      },
      "execution_count": null,
      "outputs": []
    },
    {
      "cell_type": "code",
      "source": [
        "import matplotlib.pyplot as plt\n",
        "import matplotlib.patches as patches\n",
        "import numpy as np\n",
        "import json\n",
        "import os\n",
        "import cv2\n",
        "from queue import PriorityQueue"
      ],
      "metadata": {
        "id": "QrYcUx9Sbbuq"
      },
      "execution_count": null,
      "outputs": []
    },
    {
      "cell_type": "code",
      "source": [
        "def heuristic(a, b):\n",
        "    return np.linalg.norm(np.array(a) - np.array(b))"
      ],
      "metadata": {
        "id": "dER8jnqsf6Tm"
      },
      "execution_count": null,
      "outputs": []
    },
    {
      "cell_type": "code",
      "source": [
        "def astar_direct(grid, start, goal):\n",
        "    open_set = PriorityQueue()\n",
        "    open_set.put((0, start))\n",
        "\n",
        "    came_from = {}\n",
        "    cost_so_far = {start: 0}\n",
        "\n",
        "    while not open_set.empty():\n",
        "        current = open_set.get()[1]\n",
        "\n",
        "        if current == goal:\n",
        "            break\n",
        "\n",
        "        for i in range(-1, 2):\n",
        "            for j in range(-1, 2):\n",
        "                neighbor = (current[0] + i, current[1] + j)\n",
        "                if (\n",
        "                    0 <= neighbor[0] < grid.shape[0]\n",
        "                    and 0 <= neighbor[1] < grid.shape[1]\n",
        "                    and grid[neighbor] == 0\n",
        "                ):\n",
        "                    new_cost = cost_so_far[current] + (1 if i == 0 or j == 0 else np.sqrt(2))\n",
        "                    if neighbor not in cost_so_far or new_cost < cost_so_far[neighbor]:\n",
        "                        cost_so_far[neighbor] = new_cost\n",
        "                        priority = new_cost + heuristic(neighbor, goal)\n",
        "                        open_set.put((priority, neighbor))\n",
        "                        came_from[neighbor] = current\n",
        "\n",
        "    path = []\n",
        "    current = goal\n",
        "    while current != start:\n",
        "        path.append(current)\n",
        "        current = came_from[current]\n",
        "    path.append(start)\n",
        "    path.reverse()\n",
        "\n",
        "    return path\n",
        "\n"
      ],
      "metadata": {
        "id": "SJbfzAh-f_JV"
      },
      "execution_count": null,
      "outputs": []
    },
    {
      "cell_type": "code",
      "source": [
        "def astar_direct_path(grid, start, waypoints):\n",
        "    path = []\n",
        "    current_start = start\n",
        "\n",
        "    for waypoint in waypoints:\n",
        "        segment_path = astar_direct(grid, current_start, waypoint)\n",
        "        path.extend(segment_path[:-1])  # Avoid duplicate points\n",
        "        current_start = waypoint\n",
        "        print(type(waypoint))\n",
        "\n",
        "    final_path = astar_direct(grid, current_start, waypoints[-1])\n",
        "    path.extend(final_path)  # Include all points of the final path\n",
        "\n",
        "    return path"
      ],
      "metadata": {
        "id": "eP4mi0ufgEX6"
      },
      "execution_count": null,
      "outputs": []
    },
    {
      "cell_type": "code",
      "source": [
        "\n",
        "obstacle_list = []\n",
        "waypoint_list = []\n",
        "\n",
        "# Iterate through predictions and append to the corresponding list\n",
        "for prediction in predictions_data['predictions']:\n",
        "    if prediction['class'].lower() == 'obstacles':\n",
        "        obstacle_list.append(prediction)\n",
        "    elif prediction['class'].lower() == 'cones':\n",
        "        waypoint_list.append(prediction)\n",
        "\n",
        "# Display the results\n",
        "print(\"Obstacle List:\")\n",
        "print(obstacle_list)\n",
        "\n",
        "print(\"\\nWaypoint List:\")\n",
        "print(waypoint_list)\n"
      ],
      "metadata": {
        "colab": {
          "base_uri": "https://localhost:8080/"
        },
        "id": "IZ0ee-PVgH2H",
        "outputId": "e323ac98-c4dd-407d-c949-7d8da4ce6880"
      },
      "execution_count": null,
      "outputs": [
        {
          "output_type": "stream",
          "name": "stdout",
          "text": [
            "Obstacle List:\n",
            "[]\n",
            "\n",
            "Waypoint List:\n",
            "[{'x': 9.5, 'y': 85.0, 'width': 19.0, 'height': 14.0, 'confidence': 0.7198148965835571, 'class': 'Cones', 'class_id': 0, 'detection_id': '4b3b1613-4a2b-4041-8214-9177293dfda0', 'image_path': '/topview.jpg', 'prediction_type': 'ObjectDetectionModel'}, {'x': 156.5, 'y': 104.0, 'width': 25.0, 'height': 16.0, 'confidence': 0.5675296783447266, 'class': 'Cones', 'class_id': 0, 'detection_id': '0373bd15-69f5-469a-90b3-6f7960cfdd24', 'image_path': '/topview.jpg', 'prediction_type': 'ObjectDetectionModel'}, {'x': 126.5, 'y': 163.5, 'width': 35.0, 'height': 9.0, 'confidence': 0.5403989553451538, 'class': 'Cones', 'class_id': 0, 'detection_id': '098c7da0-6c2a-4f77-a0ca-fe415d9fc0f1', 'image_path': '/topview.jpg', 'prediction_type': 'ObjectDetectionModel'}, {'x': 212.0, 'y': 9.0, 'width': 28.0, 'height': 18.0, 'confidence': 0.3754699230194092, 'class': 'Cones', 'class_id': 0, 'detection_id': '8d157d02-f233-4a63-bbdf-00f26c7422db', 'image_path': '/topview.jpg', 'prediction_type': 'ObjectDetectionModel'}]\n"
          ]
        }
      ]
    },
    {
      "cell_type": "code",
      "source": [
        "example_image_path= \"/topview.jpg\""
      ],
      "metadata": {
        "id": "-KnASf3AgL37"
      },
      "execution_count": null,
      "outputs": []
    },
    {
      "cell_type": "code",
      "source": [
        "example_image = cv2.imread(example_image_path)\n",
        "image_height, image_width, _ = example_image.shape\n",
        "\n",
        "# Choose grid size based on image dimensions\n",
        "grid_size = (image_height, image_width)\n",
        "\n",
        "# Create an empty image (grid)\n",
        "image = np.zeros(grid_size)\n",
        "\n",
        "# Plot obstacles on the grid\n",
        "fig, ax = plt.subplots()\n",
        "ax.imshow(image, cmap='gray')\n",
        "\n",
        "\n",
        "for prediction in obstacle_list:\n",
        "  x, y, width, height = (\n",
        "    prediction[\"x\"],\n",
        "    image_height - prediction[\"y\"],  # Invert y-coordinate\n",
        "    prediction[\"width\"],\n",
        "    prediction[\"height\"],\n",
        "    )\n",
        "\n",
        "            # Calculate half-width and half-height\n",
        "  half_width = width / 2\n",
        "  half_height = height / 2\n",
        "\n",
        "            # Calculate vertices of the bounding box\n",
        "  x1, y1 = x - half_width, y - half_height\n",
        "  x2, y2 = x + half_width, y - half_height\n",
        "  x3, y3 = x + half_width, y + half_height\n",
        "  x4, y4 = x - half_width, y + half_height\n",
        "\n",
        "  print((x1,y1),(x2,y2),(x3,y3),(x4,y4))\n",
        "\n",
        "            # Draw a rectangle for each detected obstacle\n",
        "  rect = patches.Polygon(\n",
        "        [(x1, y1), (x2, y2), (x3, y3), (x4, y4)],\n",
        "        linewidth=0.5, edgecolor=\"red\", facecolor=\"white\"\n",
        "        )\n",
        "  ax.add_patch(rect)\n",
        "\n",
        "        # Access the imported data for waypoints\n",
        "\n",
        "\n",
        "        # Plot waypoints on the same image\n",
        "waypoints_x = [int(float(waypoint[\"x\"])) for waypoint in waypoint_list]\n",
        "waypoints_y = [(image_height-float(waypoint[\"y\"])) for waypoint in waypoint_list]  # Do not invert y-coordinate\n",
        "waypts=[((((waypoint[\"x\"])), ((waypoint[\"y\"])))) for waypoint in waypoint_list]\n",
        "print(waypts)\n",
        "print(type(waypts))\n",
        "for i in waypts:\n",
        "  print(type(i))\n",
        "#waypoints_x.append(1000)\n",
        "#waypoints_y.append(1500)\n",
        "\n",
        "ax.plot(waypoints_x, waypoints_y, marker='o', markersize=5, color='blue', linestyle='None')\n",
        "\n",
        "        # Update plot limits based on the chosen grid size\n",
        "ax.set_xlim(0, image_width)\n",
        "ax.set_ylim(0, image_height)\n",
        "\n",
        "plt.title(\"Obstacle Detection Results with Waypoints\")\n",
        "plt.xlabel(\"X-axis\")\n",
        "plt.ylabel(\"Y-axis\")\n",
        "plt.show()"
      ],
      "metadata": {
        "colab": {
          "base_uri": "https://localhost:8080/",
          "height": 484
        },
        "id": "UweH8x6Vg72L",
        "outputId": "2570502b-6e2c-4c30-edfc-20fb1346b2e1"
      },
      "execution_count": null,
      "outputs": [
        {
          "output_type": "stream",
          "name": "stdout",
          "text": [
            "[(9.5, 85.0), (156.5, 104.0), (126.5, 163.5), (212.0, 9.0)]\n",
            "<class 'list'>\n",
            "<class 'tuple'>\n",
            "<class 'tuple'>\n",
            "<class 'tuple'>\n",
            "<class 'tuple'>\n"
          ]
        },
        {
          "output_type": "display_data",
          "data": {
            "text/plain": [
              "<Figure size 640x480 with 1 Axes>"
            ],
            "image/png": "[encoded data removed]"
          },
          "metadata": {}
        }
      ]
    },
    {
      "cell_type": "code",
      "source": [
        "import numpy as np\n",
        "\n",
        "def create_occupancy_grid_from_predictions(grid_size, predictions):\n",
        "    grid = np.zeros(grid_size)\n",
        "\n",
        "    obstacle_centers = []\n",
        "    for obstacle in predictions:\n",
        "      ( x, y, width, height) = (obstacle['x'], obstacle['y'], obstacle['width'], obstacle['height'])\n",
        "\n",
        "      # Calculate obstacle center\n",
        "      half_width = width / 2\n",
        "      half_height = height / 2\n",
        "\n",
        "            # Calculate vertices of the bounding box\n",
        "      x1, y1 = x - half_width, y - half_height\n",
        "      x2, y2 = x + half_width, y - half_height\n",
        "      x3, y3 = x + half_width, y + half_height\n",
        "      x4, y4 = x - half_width, y + half_height\n",
        "\n",
        "      print(x1,x2,y1,y2)\n",
        "        # Mark cells within the obstacle boundaries as occupied\n",
        "      for i in range(int(max(0,x1)), int(min(grid_size[0],x2))):\n",
        "          for j in range(int(max(0,y1)),int( min(grid_size[1],y3))):\n",
        "            grid[i, j] = 1  # Mark cell as occupied\n",
        "\n",
        "      print(grid)\n",
        "\n",
        "      # rect = patches.Polygon(\n",
        "      #   [(x1, y1), (x2, y2), (x3, y3), (x4, y4)],\n",
        "      #   linewidth=0.5, edgecolor=\"red\", facecolor=\"white\"\n",
        "      #   )\n",
        "      # ax.add_patch(rect)\n",
        "\n",
        "    return grid, obstacle_centers"
      ],
      "metadata": {
        "id": "rxNIcFRmg_63"
      },
      "execution_count": null,
      "outputs": []
    },
    {
      "cell_type": "code",
      "source": [
        "def plot_occupancy_grid_with_path_and_waypoints(occupancy_grid, start, destination, path, waypoints):\n",
        "    plt.imshow(occupancy_grid, cmap='gray', origin='lower')\n",
        "    plt.scatter(start[1], start[0], color='green', marker='o', label='Start')\n",
        "    plt.scatter(destination[1], destination[0], color='red', marker='o', label='Destination')\n",
        "    plt.scatter([p[1] for p in waypoints], [p[0] for p in waypoints], color='blue', marker='*', label='Waypoints')\n",
        "    for i in range(len(path) - 1):\n",
        "      plt.arrow(path[i][1], path[i][0], path[i + 1][1] - path[i][1], path[i + 1][0] - path[i][0],\n",
        "              head_width=0.2, head_length=0.2, fc='orange', ec='orange')\n",
        "    plt.legend()\n",
        "    plt.title('Occupancy Grid Map with Path and Waypoints (Diagonal Movement Allowed)')\n",
        "    plt.xlabel('Y-axis')\n",
        "    plt.ylabel('X-axis')\n",
        "    plt.show()"
      ],
      "metadata": {
        "id": "oOcqGfbChiU5"
      },
      "execution_count": null,
      "outputs": []
    },
    {
      "cell_type": "code",
      "source": [
        "print(waypts)"
      ],
      "metadata": {
        "colab": {
          "base_uri": "https://localhost:8080/"
        },
        "id": "uv6BYdS-hl9S",
        "outputId": "68264527-15b9-4fff-96af-63d8fae62009"
      },
      "execution_count": null,
      "outputs": [
        {
          "output_type": "stream",
          "name": "stdout",
          "text": [
            "[(9.5, 85.0), (156.5, 104.0), (126.5, 163.5), (212.0, 9.0)]\n"
          ]
        }
      ]
    },
    {
      "cell_type": "code",
      "source": [
        "start = (15,200)\n",
        "destination = (600,1400)\n",
        "\n",
        "# Initialize waypts as an empty list\n",
        "occupancy_grid, obstacle_centers = create_occupancy_grid_from_predictions(grid_size, obstacle_list)\n",
        "waypts.append(destination)\n",
        "print(waypts)\n",
        "wpts= [(int(x), int(y)) for x,y in waypts]\n",
        "print(wpts)\n",
        "path_direct = astar_direct_path(occupancy_grid, start, wpts)\n",
        "\n",
        "\n",
        "plot_occupancy_grid_with_path_and_waypoints(occupancy_grid, start, destination, path_direct, wpts)"
      ],
      "metadata": {
        "colab": {
          "base_uri": "https://localhost:8080/",
          "height": 443
        },
        "id": "S0PinFRXhohT",
        "outputId": "9e98071f-7325-4ee5-df8d-7aa602fcb7e1"
      },
      "execution_count": null,
      "outputs": [
        {
          "output_type": "stream",
          "name": "stdout",
          "text": [
            "[(9.5, 85.0), (156.5, 104.0), (126.5, 163.5), (212.0, 9.0), (600, 1400)]\n",
            "[(9, 85), (156, 104), (126, 163), (212, 9), (600, 1400)]\n",
            "<class 'tuple'>\n",
            "<class 'tuple'>\n",
            "<class 'tuple'>\n"
          ]
        },
        {
          "output_type": "error",
          "ename": "KeyError",
          "evalue": "(212, 9)",
          "traceback": [
            "\u001b[0;31m---------------------------------------------------------------------------\u001b[0m",
            "\u001b[0;31mKeyError\u001b[0m                                  Traceback (most recent call last)",
            "\u001b[0;32m<ipython-input-42-94f5a4590ef0>\u001b[0m in \u001b[0;36m<cell line: 10>\u001b[0;34m()\u001b[0m\n\u001b[1;32m      8\u001b[0m \u001b[0mwpts\u001b[0m\u001b[0;34m=\u001b[0m \u001b[0;34m[\u001b[0m\u001b[0;34m(\u001b[0m\u001b[0mint\u001b[0m\u001b[0;34m(\u001b[0m\u001b[0mx\u001b[0m\u001b[0;34m)\u001b[0m\u001b[0;34m,\u001b[0m \u001b[0mint\u001b[0m\u001b[0;34m(\u001b[0m\u001b[0my\u001b[0m\u001b[0;34m)\u001b[0m\u001b[0;34m)\u001b[0m \u001b[0;32mfor\u001b[0m \u001b[0mx\u001b[0m\u001b[0;34m,\u001b[0m\u001b[0my\u001b[0m \u001b[0;32min\u001b[0m \u001b[0mwaypts\u001b[0m\u001b[0;34m]\u001b[0m\u001b[0;34m\u001b[0m\u001b[0;34m\u001b[0m\u001b[0m\n\u001b[1;32m      9\u001b[0m \u001b[0mprint\u001b[0m\u001b[0;34m(\u001b[0m\u001b[0mwpts\u001b[0m\u001b[0;34m)\u001b[0m\u001b[0;34m\u001b[0m\u001b[0;34m\u001b[0m\u001b[0m\n\u001b[0;32m---> 10\u001b[0;31m \u001b[0mpath_direct\u001b[0m \u001b[0;34m=\u001b[0m \u001b[0mastar_direct_path\u001b[0m\u001b[0;34m(\u001b[0m\u001b[0moccupancy_grid\u001b[0m\u001b[0;34m,\u001b[0m \u001b[0mstart\u001b[0m\u001b[0;34m,\u001b[0m \u001b[0mwpts\u001b[0m\u001b[0;34m)\u001b[0m\u001b[0;34m\u001b[0m\u001b[0;34m\u001b[0m\u001b[0m\n\u001b[0m\u001b[1;32m     11\u001b[0m \u001b[0;34m\u001b[0m\u001b[0m\n\u001b[1;32m     12\u001b[0m \u001b[0;34m\u001b[0m\u001b[0m\n",
            "\u001b[0;32m<ipython-input-35-caaba3c4db65>\u001b[0m in \u001b[0;36mastar_direct_path\u001b[0;34m(grid, start, waypoints)\u001b[0m\n\u001b[1;32m      4\u001b[0m \u001b[0;34m\u001b[0m\u001b[0m\n\u001b[1;32m      5\u001b[0m     \u001b[0;32mfor\u001b[0m \u001b[0mwaypoint\u001b[0m \u001b[0;32min\u001b[0m \u001b[0mwaypoints\u001b[0m\u001b[0;34m:\u001b[0m\u001b[0;34m\u001b[0m\u001b[0;34m\u001b[0m\u001b[0m\n\u001b[0;32m----> 6\u001b[0;31m         \u001b[0msegment_path\u001b[0m \u001b[0;34m=\u001b[0m \u001b[0mastar_direct\u001b[0m\u001b[0;34m(\u001b[0m\u001b[0mgrid\u001b[0m\u001b[0;34m,\u001b[0m \u001b[0mcurrent_start\u001b[0m\u001b[0;34m,\u001b[0m \u001b[0mwaypoint\u001b[0m\u001b[0;34m)\u001b[0m\u001b[0;34m\u001b[0m\u001b[0;34m\u001b[0m\u001b[0m\n\u001b[0m\u001b[1;32m      7\u001b[0m         \u001b[0mpath\u001b[0m\u001b[0;34m.\u001b[0m\u001b[0mextend\u001b[0m\u001b[0;34m(\u001b[0m\u001b[0msegment_path\u001b[0m\u001b[0;34m[\u001b[0m\u001b[0;34m:\u001b[0m\u001b[0;34m-\u001b[0m\u001b[0;36m1\u001b[0m\u001b[0;34m]\u001b[0m\u001b[0;34m)\u001b[0m  \u001b[0;31m# Avoid duplicate points\u001b[0m\u001b[0;34m\u001b[0m\u001b[0;34m\u001b[0m\u001b[0m\n\u001b[1;32m      8\u001b[0m         \u001b[0mcurrent_start\u001b[0m \u001b[0;34m=\u001b[0m \u001b[0mwaypoint\u001b[0m\u001b[0;34m\u001b[0m\u001b[0;34m\u001b[0m\u001b[0m\n",
            "\u001b[0;32m<ipython-input-34-7bce268706fa>\u001b[0m in \u001b[0;36mastar_direct\u001b[0;34m(grid, start, goal)\u001b[0m\n\u001b[1;32m     31\u001b[0m     \u001b[0;32mwhile\u001b[0m \u001b[0mcurrent\u001b[0m \u001b[0;34m!=\u001b[0m \u001b[0mstart\u001b[0m\u001b[0;34m:\u001b[0m\u001b[0;34m\u001b[0m\u001b[0;34m\u001b[0m\u001b[0m\n\u001b[1;32m     32\u001b[0m         \u001b[0mpath\u001b[0m\u001b[0;34m.\u001b[0m\u001b[0mappend\u001b[0m\u001b[0;34m(\u001b[0m\u001b[0mcurrent\u001b[0m\u001b[0;34m)\u001b[0m\u001b[0;34m\u001b[0m\u001b[0;34m\u001b[0m\u001b[0m\n\u001b[0;32m---> 33\u001b[0;31m         \u001b[0mcurrent\u001b[0m \u001b[0;34m=\u001b[0m \u001b[0mcame_from\u001b[0m\u001b[0;34m[\u001b[0m\u001b[0mcurrent\u001b[0m\u001b[0;34m]\u001b[0m\u001b[0;34m\u001b[0m\u001b[0;34m\u001b[0m\u001b[0m\n\u001b[0m\u001b[1;32m     34\u001b[0m     \u001b[0mpath\u001b[0m\u001b[0;34m.\u001b[0m\u001b[0mappend\u001b[0m\u001b[0;34m(\u001b[0m\u001b[0mstart\u001b[0m\u001b[0;34m)\u001b[0m\u001b[0;34m\u001b[0m\u001b[0;34m\u001b[0m\u001b[0m\n\u001b[1;32m     35\u001b[0m     \u001b[0mpath\u001b[0m\u001b[0;34m.\u001b[0m\u001b[0mreverse\u001b[0m\u001b[0;34m(\u001b[0m\u001b[0;34m)\u001b[0m\u001b[0;34m\u001b[0m\u001b[0;34m\u001b[0m\u001b[0m\n",
            "\u001b[0;31mKeyError\u001b[0m: (212, 9)"
          ]
        }
      ]
    },
    {
      "cell_type": "code",
      "source": [],
      "metadata": {
        "id": "cN9oQu4phsKC"
      },
      "execution_count": null,
      "outputs": []
    }
  ]
}